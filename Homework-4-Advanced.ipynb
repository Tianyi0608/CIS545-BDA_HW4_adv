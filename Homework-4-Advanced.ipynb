{
 "cells": [
  {
   "cell_type": "markdown",
   "metadata": {
    "deletable": false,
    "editable": false,
    "nbgrader": {
     "checksum": "bec8229fcf4a766e9467e6c67d8b31c6",
     "grade": false,
     "grade_id": "hw4-adv",
     "locked": true,
     "schema_version": 1,
     "solution": false
    }
   },
   "source": [
    "# CIS 545 Homework 4 Advanced\n",
    "\n",
    "## Step 1: Local Sequence Alignment\n",
    "\n",
    "In information theory, linguistics and computer science, the Levenshtein distance is a string metric for measuring the difference between two sequences and has many applications in other disciplines also. There are two popular sequence alignment algorithms - **Needleman–Wunsch algorithm** (global alignment) and **Smith–Waterman algorithm** (local alignment). \n",
    "\n",
    "In this homework, we shall expand our knowledge of Levenshtein Distance with Dynamic Programming by examining another variant of the Levenshtein algorithm called the **Smith–Waterman algorithm**. The Smith–Waterman algorithm performs local sequence alignment; that is, for determining similar regions between two strings of nucleic acid sequences or protein sequences. Instead of looking at the entire sequence, the Smith–Waterman algorithm compares segments of all possible lengths and optimizes the similarity measure. From [Wikipedia](https://en.wikipedia.org/wiki/Sequence_alignment), a sequence alignment is a way of arranging genetic sequences to identify regions of similarity.\n",
    "\n",
    "To “align” two sequences, we insert gaps in them until their similar substrings line up. Adding these gaps helps to align sequences that may have been changed through mutations such as insertions and deletions, AKA **indels**. Because there could be potentially many ways to align two sequences, the Smith–Waterman algorithm allows for “scoring” of sequence alignments. The scoring system allows one to determine an ordering on alignments, i.e. determine which alignments are better than others. \n",
    "\n",
    "The main difference to the Needleman–Wunsch algorithm is that negative scoring matrix cells are set to zero, which renders the (thus positively scoring) local alignments visible. **Traceback procedure starts at the highest scoring matrix cell and proceeds until a cell with score zero is encountered, yielding the highest scoring local alignment.**"
   ]
  },
  {
   "cell_type": "code",
   "execution_count": 1,
   "metadata": {},
   "outputs": [],
   "source": [
    "# Import your packages here - make sure to have pandas and numpy, and anything else?\n",
    "import pandas as pd\n",
    "import numpy as np\n",
    "\n",
    "# If you use a non-standard package, be sure to install it here too"
   ]
  },
  {
   "cell_type": "code",
   "execution_count": 2,
   "metadata": {
    "deletable": false,
    "editable": false,
    "nbgrader": {
     "checksum": "23a68c4001314f15a5e5a7dc7139a30c",
     "grade": false,
     "grade_id": "seq1-seq2",
     "locked": true,
     "schema_version": 1,
     "solution": false
    }
   },
   "outputs": [],
   "source": [
    "# Your reference sequences\n",
    "\n",
    "seq1 = ['G', 'G', 'T', 'T', 'G', 'A', 'C', 'T', 'A']\n",
    "seq2 = ['T', 'G', 'T', 'T', 'A', 'C', 'G', 'G']"
   ]
  },
  {
   "cell_type": "code",
   "execution_count": 3,
   "metadata": {
    "deletable": false,
    "editable": false,
    "nbgrader": {
     "checksum": "4e435fa434b6ce5b33c6b4a4be49b4e6",
     "grade": false,
     "grade_id": "grading-functions",
     "locked": true,
     "schema_version": 1,
     "solution": false
    }
   },
   "outputs": [],
   "source": [
    "# These functions are used for grading\n",
    "\n",
    "def score_grid(D, seq1, seq2):\n",
    "    D_arr = np.zeros((len(seq1)+1,len(seq2)+1), dtype=int)\n",
    "    for i in range(len(seq1)+1): \n",
    "        for j in range(len(seq2)+1): \n",
    "            D_arr[i][j] = D[(j,i)]\n",
    "    return D_arr\n",
    "\n",
    "def directions_grid(D, seq1, seq2):\n",
    "    D_arr = dict()\n",
    "    for j in range(len(seq2)+1): \n",
    "        D_arr[j] = dict()\n",
    "        for i in range(len(seq1)+1): \n",
    "            D_arr[j][i] = D[(i,j)][1]\n",
    "    return pd.DataFrame(D_arr)"
   ]
  },
  {
   "cell_type": "markdown",
   "metadata": {
    "deletable": false,
    "editable": false,
    "nbgrader": {
     "checksum": "bd567a73a2bc7eae292b5d9a8fb7bb59",
     "grade": false,
     "grade_id": "note-step1-1",
     "locked": true,
     "schema_version": 1,
     "solution": false
    }
   },
   "source": [
    "## Step 1.1: Implementing Smith–Waterman\n",
    "\n",
    "Here, we provide a rough sketch of the pseudocode of Smith–Waterman below (based off of [Wikipedia](https://en.wikipedia.org/wiki/Smith%E2%80%93Waterman_algorithm#Implementation)):\n",
    "\n",
    "Let $D$ refer to the table of alignment scores computed by the algorithm (note that if $m = \\text{len(seq1)}$ and $n = \\text{len(seq2)}$, then $D$ has dimensions $(m+1) \\times (n+1)$). \n",
    "\n",
    "**Initialization**  \n",
    "`Let D(i, 0) = 0 for i <- 0..len(seq1) + 1`  \n",
    "`Let D(0, j) = 0 for j <- 0..len(seq2) + 1`\n",
    "\n",
    "**Update Step**  \n",
    "`D(i, j) = max{D(i - 1, j    ) - indelCost,  \n",
    "               D(i    , j - 1) - indelCost,\n",
    "               D(i - 1, j - 1) + match_mismatch_cost(seq1_{i-1}, seq2_{j-1}),\n",
    "               0}`\n",
    "               \n",
    "Note that when you implement this, it will be easiest to represent $D$ as a dictionary instead of a matrix, for reasons you will see later.\n",
    "\n",
    "For this homework, assume these values:\n",
    "Indel Cost (Gap Penalty) = 2, \n",
    "Match Cost = 3,\n",
    "Mismatch Cost = -3.\n",
    "\n",
    "Please refer to Wikipedia page to know more about these terms.\n",
    "\n",
    "Write a function called `match_mismatch_cost(n1, n2)` that returns match_cost (3 in this case) if the characters provided as arguments match, otherwise it returns mismatch_cost (-3 in this case)."
   ]
  },
  {
   "cell_type": "code",
   "execution_count": 4,
   "metadata": {
    "deletable": false,
    "nbgrader": {
     "checksum": "817b939d92e17eb87c84b7ebff219e7b",
     "grade": false,
     "grade_id": "match-mismatch",
     "locked": false,
     "schema_version": 1,
     "solution": true
    }
   },
   "outputs": [],
   "source": [
    "# TODO: Write the function match_mismatch_cost(n1, n2) here.\n",
    "\n",
    "def match_mismatch_cost(n1, n2):\n",
    "    if n1==n2:\n",
    "        return 3\n",
    "    if n1!=n2:\n",
    "        return -3"
   ]
  },
  {
   "cell_type": "code",
   "execution_count": 5,
   "metadata": {
    "deletable": false,
    "editable": false,
    "nbgrader": {
     "checksum": "b26382d8e078cf7c82be1a698098dcc5",
     "grade": true,
     "grade_id": "test-match-mismatch",
     "locked": true,
     "points": 1,
     "schema_version": 1,
     "solution": false
    }
   },
   "outputs": [],
   "source": [
    "# CIS 545 Test Case\n",
    "\n",
    "assert(match_mismatch_cost('a', 'a') == 3)\n"
   ]
  },
  {
   "cell_type": "code",
   "execution_count": 6,
   "metadata": {
    "deletable": false,
    "editable": false,
    "nbgrader": {
     "checksum": "a1a550faa5e2cdcf20b1b4cc5081e470",
     "grade": false,
     "grade_id": "pad-0",
     "locked": true,
     "schema_version": 1,
     "solution": false
    }
   },
   "outputs": [
    {
     "name": "stdout",
     "output_type": "stream",
     "text": [
      "CIS 545 Test Case Padding\n"
     ]
    }
   ],
   "source": [
    "print('CIS 545 Test Case Padding')"
   ]
  },
  {
   "cell_type": "markdown",
   "metadata": {
    "deletable": false,
    "editable": false,
    "nbgrader": {
     "checksum": "472783d0e74bfec24eea5e49046bb77b",
     "grade": false,
     "grade_id": "note-calcscores",
     "locked": true,
     "schema_version": 1,
     "solution": false
    }
   },
   "source": [
    "Now, write the function `calculate_scores(seq2, seq1, indelCost)` that returns a dictionary, `D`, that corresponds to the table of alignment scores computed by the Smith–Waterman algorithm. Note the order of the entries.\n",
    "\n",
    "The dictionary should have int tuples `(i, j)` as keys and, as the corresponding mappings, ints that correspond to the alignment score of `seq1[0:i]` with `seq2[0:j]`. "
   ]
  },
  {
   "cell_type": "code",
   "execution_count": 7,
   "metadata": {
    "deletable": false,
    "nbgrader": {
     "checksum": "31ed3c70e920e9e5ffbb2efe51712e3d",
     "grade": false,
     "grade_id": "calculate_scores",
     "locked": false,
     "schema_version": 1,
     "solution": true
    }
   },
   "outputs": [],
   "source": [
    "# TODO: Write the function calculate_scores(seq2, seq1, indelCost) here.\n",
    "\n",
    "def calculate_scores(seq2, seq1, indelCost):\n",
    "    D=dict()\n",
    "    len1 = len(seq1)\n",
    "    len2 = len(seq2)\n",
    "#     print(len1,len2)\n",
    "    for i in range(len1+1):\n",
    "        D[(i,0)]=0\n",
    "    for j in range(len2+1):\n",
    "        D[(0,j)]=0\n",
    "    for i in range(1,len1+1):\n",
    "        for j in range(1,len2+1):\n",
    "#             print(i,j)\n",
    "#             D[(i,j)]=0\n",
    "            D[(i,j)] = max((D[(i-1,j)]-indelCost),(D[(i,j-1)]-indelCost),(D[(i-1,j-1)]+match_mismatch_cost(seq1[i-1],seq2[j-1])),0)\n",
    "#             print(D[(i,j)])\n",
    "    return D                      "
   ]
  },
  {
   "cell_type": "code",
   "execution_count": 8,
   "metadata": {
    "deletable": false,
    "editable": false,
    "nbgrader": {
     "checksum": "199db97b6a5ec06683f5f2cec73af649",
     "grade": true,
     "grade_id": "test-calcscores-1",
     "locked": true,
     "points": 1,
     "schema_version": 1,
     "solution": false
    }
   },
   "outputs": [
    {
     "data": {
      "text/plain": [
       "array([[ 0,  0,  0,  0,  0,  0,  0,  0,  0],\n",
       "       [ 0,  0,  3,  1,  0,  0,  0,  3,  3],\n",
       "       [ 0,  0,  3,  1,  0,  0,  0,  3,  6],\n",
       "       [ 0,  3,  1,  6,  4,  2,  0,  1,  4],\n",
       "       [ 0,  3,  1,  4,  9,  7,  5,  3,  2],\n",
       "       [ 0,  1,  6,  4,  7,  6,  4,  8,  6],\n",
       "       [ 0,  0,  4,  3,  5, 10,  8,  6,  5],\n",
       "       [ 0,  0,  2,  1,  3,  8, 13, 11,  9],\n",
       "       [ 0,  3,  1,  5,  4,  6, 11, 10,  8],\n",
       "       [ 0,  1,  0,  3,  2,  7,  9,  8,  7]])"
      ]
     },
     "metadata": {},
     "output_type": "display_data"
    }
   ],
   "source": [
    "# CIS 545 Test Case\n",
    "# Yes, we are supposed to run the seq in reverse order!\n",
    "\n",
    "indelCost = 2\n",
    "D = calculate_scores(seq1, seq2, indelCost)\n",
    "D_arr = score_grid(D, seq1, seq2)\n",
    "display(D_arr)\n",
    "\n",
    "assert((D_arr[8] == np.array([0, 3, 1, 5, 4, 6, 11, 10, 8])).all())"
   ]
  },
  {
   "cell_type": "code",
   "execution_count": 9,
   "metadata": {
    "deletable": false,
    "editable": false,
    "nbgrader": {
     "checksum": "ca2ed249cb2875ea022b7e8242c4588c",
     "grade": false,
     "grade_id": "pad-1",
     "locked": true,
     "schema_version": 1,
     "solution": false
    }
   },
   "outputs": [
    {
     "name": "stdout",
     "output_type": "stream",
     "text": [
      "CIS 545 Test Case Padding\n"
     ]
    }
   ],
   "source": [
    "print('CIS 545 Test Case Padding')"
   ]
  },
  {
   "cell_type": "code",
   "execution_count": 10,
   "metadata": {
    "deletable": false,
    "editable": false,
    "nbgrader": {
     "checksum": "404f8ffdd57fd1e2794ecd82231f4af2",
     "grade": true,
     "grade_id": "test-calcscores-2",
     "locked": true,
     "points": 3,
     "schema_version": 1,
     "solution": false
    }
   },
   "outputs": [],
   "source": [
    "# CIS 545 Test Case\n"
   ]
  },
  {
   "cell_type": "code",
   "execution_count": 11,
   "metadata": {
    "deletable": false,
    "editable": false,
    "nbgrader": {
     "checksum": "19b831470ed9346ae96929ce72bba423",
     "grade": false,
     "grade_id": "pad-2",
     "locked": true,
     "schema_version": 1,
     "solution": false
    }
   },
   "outputs": [
    {
     "name": "stdout",
     "output_type": "stream",
     "text": [
      "CIS 545 Test Case Padding\n"
     ]
    }
   ],
   "source": [
    "print('CIS 545 Test Case Padding')"
   ]
  },
  {
   "cell_type": "markdown",
   "metadata": {
    "deletable": false,
    "editable": false,
    "nbgrader": {
     "checksum": "312604a58a07a98c2f383e09896e457b",
     "grade": false,
     "grade_id": "D_arr",
     "locked": true,
     "schema_version": 1,
     "solution": false
    }
   },
   "source": [
    "Now, find the indices of the cell in the score matrix `D_arr` obtained above which has the maximum score. Name the row index as `start_row_idx` and column index as `start_col_idx`.\n",
    "\n",
    "For simplicity, we assume that we are just looking for one local alignment (There could be many local alignments feasible.) So, if there exists multiple cells with the same highest score, pick the cell which is closer to the extreme right most-bottom most cell $D(m,n)$.\n",
    "\n",
    "For example, suppose there is a 4x4 matrix with row indices as [0,1,2,3] and column indices as [0,1,2,3] in which cell values at (2,3) and (3,2) contain the same largest score, then pick the indices as (3,2).\n"
   ]
  },
  {
   "cell_type": "code",
   "execution_count": 12,
   "metadata": {},
   "outputs": [],
   "source": [
    "start_row_idx=0\n",
    "start_col_idx=0\n",
    "local_max=0\n",
    "for i in range(len(D_arr)):\n",
    "    for j in range(len(D_arr[0])):\n",
    "        if D_arr[i][j]>=local_max:\n",
    "            local_max=D_arr[i][j]\n",
    "            start_row_idx=i\n",
    "            start_col_idx=j"
   ]
  },
  {
   "cell_type": "code",
   "execution_count": 13,
   "metadata": {},
   "outputs": [
    {
     "name": "stdout",
     "output_type": "stream",
     "text": [
      "7 6 13\n"
     ]
    }
   ],
   "source": [
    "print(start_row_idx,start_col_idx,local_max)"
   ]
  },
  {
   "cell_type": "code",
   "execution_count": 14,
   "metadata": {
    "deletable": false,
    "editable": false,
    "nbgrader": {
     "checksum": "4820b698c78a8f4a82518a3beca782b8",
     "grade": true,
     "grade_id": "test-Darr-1",
     "locked": true,
     "points": 1,
     "schema_version": 1,
     "solution": false
    }
   },
   "outputs": [],
   "source": [
    "# CIS 545 Test Case\n"
   ]
  },
  {
   "cell_type": "code",
   "execution_count": 15,
   "metadata": {
    "deletable": false,
    "editable": false,
    "nbgrader": {
     "checksum": "45a941e424cd45f556eb8e9aa98f95e4",
     "grade": false,
     "grade_id": "pad-3",
     "locked": true,
     "schema_version": 1,
     "solution": false
    }
   },
   "outputs": [
    {
     "name": "stdout",
     "output_type": "stream",
     "text": [
      "CIS 545 Test Case Padding\n"
     ]
    }
   ],
   "source": [
    "print('CIS 545 Test Case Padding')"
   ]
  },
  {
   "cell_type": "code",
   "execution_count": 16,
   "metadata": {
    "deletable": false,
    "editable": false,
    "nbgrader": {
     "checksum": "fa2605297073d9fc4acba31c098b651b",
     "grade": true,
     "grade_id": "test-Darr-2",
     "locked": true,
     "points": 1,
     "schema_version": 1,
     "solution": false
    }
   },
   "outputs": [],
   "source": [
    "# CIS 545 Test Case\n"
   ]
  },
  {
   "cell_type": "code",
   "execution_count": 17,
   "metadata": {
    "deletable": false,
    "editable": false,
    "nbgrader": {
     "checksum": "283e222271a13e48239891e70b9aa959",
     "grade": false,
     "grade_id": "pad-4",
     "locked": true,
     "schema_version": 1,
     "solution": false
    }
   },
   "outputs": [
    {
     "name": "stdout",
     "output_type": "stream",
     "text": [
      "CIS 545 Test Case Padding\n"
     ]
    }
   ],
   "source": [
    "print('CIS 545 Test Case Padding')"
   ]
  },
  {
   "cell_type": "markdown",
   "metadata": {
    "deletable": false,
    "editable": false,
    "nbgrader": {
     "checksum": "e73599d3478fc2b412b6c602bc5d1758",
     "grade": false,
     "grade_id": "note-step1-2",
     "locked": true,
     "schema_version": 1,
     "solution": false
    }
   },
   "source": [
    "## Step 1.2: Backtracking to Compute Alignments\n",
    "\n",
    "Up until now, we have simply been computing the score of the sequence alignments, but we have not yet implemented a way to _find_ a local sequence alignment. We will do so by **“backtracking”** through our alignment score table, essentially starting with the cell which has the maximum score of $D$ and working our way back until a cell with score zero is encountered.\n",
    "\n",
    "Because of how the dynamic programming recursion was set up, at each cell we visit during our backtrack, we have three options for the next move: \n",
    "\n",
    "1. Diagonal (`DIAG`): \n",
    "Corresponds to the case in which we either substitute or having matching characters (i.e., the following had the maximum value of the three cases):  \n",
    "`D(i - 1, j - 1) + match_mismatch_cost(seq1_{i-1}, seq2_{j-1})`\n",
    "2. Horizontal (`LEFT`):\n",
    "Corresponds to the case in which we insert a gap in the side sequence:  \n",
    "`D(i - 1, j) - indelCost`\n",
    "3. Vertical (`UP`): \n",
    "Corresponds to the case in which we insert a gap in the top sequence:  \n",
    "`D(i, j - 1) - indelCost`\n",
    "\n",
    "\n",
    "### Step 1.2.1 Computing the Directional Alignment Table\n",
    "Define a function `determine_directions(seq1, seq2, indelCost)` that returns a dictionary, `D`, that corresponds to the table of alignment scores and the directional arrows computed by the Smith–Waterman algorithm. \n",
    "\n",
    "The dictionary should have int tuples `(i, j)` as keys and, as the corresponding mappings, a two-element list of the form `[int, list]`, where int refers to the score from 1.1, and the inner list will hold the directional arrows pointing to the cells in which the maximum score was computed from. An element of the dictionary should resemble the following:\n",
    "\n",
    "`(5, 5): [0, ['UP', 'DIAG']]`"
   ]
  },
  {
   "cell_type": "code",
   "execution_count": 18,
   "metadata": {},
   "outputs": [],
   "source": [
    "# Import collections (don't delete this!) and other packages neede\n",
    "from collections import defaultdict"
   ]
  },
  {
   "cell_type": "code",
   "execution_count": 19,
   "metadata": {
    "deletable": false,
    "nbgrader": {
     "checksum": "688491a80b69abcb7565021221549bf5",
     "grade": false,
     "grade_id": "determine-directions",
     "locked": false,
     "schema_version": 1,
     "solution": true
    }
   },
   "outputs": [],
   "source": [
    "# TODO: Write the function determine_directions(seq1, seq2, indelCost) here.\n",
    "\n",
    "def determine_directions(seq1, seq2, indelCost):\n",
    "    D=dict()\n",
    "    len1 = len(seq1)\n",
    "    len2 = len(seq2)\n",
    "    for i in range(len1+1):\n",
    "        D[(i,0)]=[0,[]]\n",
    "    for j in range(len2+1):\n",
    "        D[(0,j)]=[0,[]]\n",
    "    for i in range(1,len1+1):\n",
    "        for j in range(1,len2+1):\n",
    "            D[(i,j)] = [0,[]]\n",
    "            D[(i,j)][0] = max((D[(i-1,j)][0]-indelCost),(D[(i,j-1)][0]-indelCost),(D[(i-1,j-1)][0]+match_mismatch_cost(seq1[i-1],seq2[j-1])),0)\n",
    "            if (D[(i-1,j)][0]-indelCost) == D[(i,j)][0]:\n",
    "                D[(i,j)][1].append('VERT')\n",
    "            if (D[(i,j-1)][0]-indelCost) == D[(i,j)][0]:\n",
    "                D[(i,j)][1].append('HORI')\n",
    "            if (D[(i-1,j-1)][0]+match_mismatch_cost(seq1[i-1],seq2[j-1])) == D[(i,j)][0]:\n",
    "                D[(i,j)][1].append('DIAG')\n",
    "#             print(D[(i,j)][0])\n",
    "    return D                 "
   ]
  },
  {
   "cell_type": "code",
   "execution_count": 20,
   "metadata": {
    "deletable": false,
    "editable": false,
    "nbgrader": {
     "checksum": "ef3ce67a219557907baaea2c061f1787",
     "grade": false,
     "grade_id": "test-detdirection-1",
     "locked": true,
     "schema_version": 1,
     "solution": false
    }
   },
   "outputs": [
    {
     "data": {
      "text/html": [
       "<div>\n",
       "<style scoped>\n",
       "    .dataframe tbody tr th:only-of-type {\n",
       "        vertical-align: middle;\n",
       "    }\n",
       "\n",
       "    .dataframe tbody tr th {\n",
       "        vertical-align: top;\n",
       "    }\n",
       "\n",
       "    .dataframe thead th {\n",
       "        text-align: right;\n",
       "    }\n",
       "</style>\n",
       "<table border=\"1\" class=\"dataframe\">\n",
       "  <thead>\n",
       "    <tr style=\"text-align: right;\">\n",
       "      <th></th>\n",
       "      <th>0</th>\n",
       "      <th>1</th>\n",
       "      <th>2</th>\n",
       "      <th>3</th>\n",
       "      <th>4</th>\n",
       "      <th>5</th>\n",
       "      <th>6</th>\n",
       "      <th>7</th>\n",
       "      <th>8</th>\n",
       "    </tr>\n",
       "  </thead>\n",
       "  <tbody>\n",
       "    <tr>\n",
       "      <th>0</th>\n",
       "      <td>[]</td>\n",
       "      <td>[]</td>\n",
       "      <td>[]</td>\n",
       "      <td>[]</td>\n",
       "      <td>[]</td>\n",
       "      <td>[]</td>\n",
       "      <td>[]</td>\n",
       "      <td>[]</td>\n",
       "      <td>[]</td>\n",
       "    </tr>\n",
       "    <tr>\n",
       "      <th>1</th>\n",
       "      <td>[]</td>\n",
       "      <td>[]</td>\n",
       "      <td>[DIAG]</td>\n",
       "      <td>[HORI]</td>\n",
       "      <td>[]</td>\n",
       "      <td>[]</td>\n",
       "      <td>[]</td>\n",
       "      <td>[DIAG]</td>\n",
       "      <td>[DIAG]</td>\n",
       "    </tr>\n",
       "    <tr>\n",
       "      <th>2</th>\n",
       "      <td>[]</td>\n",
       "      <td>[]</td>\n",
       "      <td>[DIAG]</td>\n",
       "      <td>[HORI]</td>\n",
       "      <td>[]</td>\n",
       "      <td>[]</td>\n",
       "      <td>[]</td>\n",
       "      <td>[DIAG]</td>\n",
       "      <td>[DIAG]</td>\n",
       "    </tr>\n",
       "    <tr>\n",
       "      <th>3</th>\n",
       "      <td>[]</td>\n",
       "      <td>[DIAG]</td>\n",
       "      <td>[VERT, HORI]</td>\n",
       "      <td>[DIAG]</td>\n",
       "      <td>[HORI, DIAG]</td>\n",
       "      <td>[HORI]</td>\n",
       "      <td>[HORI]</td>\n",
       "      <td>[VERT]</td>\n",
       "      <td>[VERT]</td>\n",
       "    </tr>\n",
       "    <tr>\n",
       "      <th>4</th>\n",
       "      <td>[]</td>\n",
       "      <td>[DIAG]</td>\n",
       "      <td>[HORI]</td>\n",
       "      <td>[VERT, DIAG]</td>\n",
       "      <td>[DIAG]</td>\n",
       "      <td>[HORI]</td>\n",
       "      <td>[HORI]</td>\n",
       "      <td>[HORI]</td>\n",
       "      <td>[VERT]</td>\n",
       "    </tr>\n",
       "    <tr>\n",
       "      <th>5</th>\n",
       "      <td>[]</td>\n",
       "      <td>[VERT]</td>\n",
       "      <td>[DIAG]</td>\n",
       "      <td>[HORI]</td>\n",
       "      <td>[VERT]</td>\n",
       "      <td>[DIAG]</td>\n",
       "      <td>[HORI, DIAG]</td>\n",
       "      <td>[DIAG]</td>\n",
       "      <td>[HORI, DIAG]</td>\n",
       "    </tr>\n",
       "    <tr>\n",
       "      <th>6</th>\n",
       "      <td>[]</td>\n",
       "      <td>[]</td>\n",
       "      <td>[VERT]</td>\n",
       "      <td>[DIAG]</td>\n",
       "      <td>[VERT]</td>\n",
       "      <td>[DIAG]</td>\n",
       "      <td>[HORI]</td>\n",
       "      <td>[VERT, HORI]</td>\n",
       "      <td>[DIAG]</td>\n",
       "    </tr>\n",
       "    <tr>\n",
       "      <th>7</th>\n",
       "      <td>[]</td>\n",
       "      <td>[]</td>\n",
       "      <td>[VERT]</td>\n",
       "      <td>[VERT, DIAG]</td>\n",
       "      <td>[VERT]</td>\n",
       "      <td>[VERT]</td>\n",
       "      <td>[DIAG]</td>\n",
       "      <td>[HORI]</td>\n",
       "      <td>[HORI]</td>\n",
       "    </tr>\n",
       "    <tr>\n",
       "      <th>8</th>\n",
       "      <td>[]</td>\n",
       "      <td>[DIAG]</td>\n",
       "      <td>[HORI]</td>\n",
       "      <td>[DIAG]</td>\n",
       "      <td>[DIAG]</td>\n",
       "      <td>[VERT]</td>\n",
       "      <td>[VERT]</td>\n",
       "      <td>[DIAG]</td>\n",
       "      <td>[HORI, DIAG]</td>\n",
       "    </tr>\n",
       "    <tr>\n",
       "      <th>9</th>\n",
       "      <td>[]</td>\n",
       "      <td>[VERT]</td>\n",
       "      <td>[DIAG]</td>\n",
       "      <td>[VERT]</td>\n",
       "      <td>[VERT, DIAG]</td>\n",
       "      <td>[DIAG]</td>\n",
       "      <td>[VERT]</td>\n",
       "      <td>[VERT, DIAG]</td>\n",
       "      <td>[DIAG]</td>\n",
       "    </tr>\n",
       "  </tbody>\n",
       "</table>\n",
       "</div>"
      ],
      "text/plain": [
       "    0       1             2             3             4       5             6  \\\n",
       "0  []      []            []            []            []      []            []   \n",
       "1  []      []        [DIAG]        [HORI]            []      []            []   \n",
       "2  []      []        [DIAG]        [HORI]            []      []            []   \n",
       "3  []  [DIAG]  [VERT, HORI]        [DIAG]  [HORI, DIAG]  [HORI]        [HORI]   \n",
       "4  []  [DIAG]        [HORI]  [VERT, DIAG]        [DIAG]  [HORI]        [HORI]   \n",
       "5  []  [VERT]        [DIAG]        [HORI]        [VERT]  [DIAG]  [HORI, DIAG]   \n",
       "6  []      []        [VERT]        [DIAG]        [VERT]  [DIAG]        [HORI]   \n",
       "7  []      []        [VERT]  [VERT, DIAG]        [VERT]  [VERT]        [DIAG]   \n",
       "8  []  [DIAG]        [HORI]        [DIAG]        [DIAG]  [VERT]        [VERT]   \n",
       "9  []  [VERT]        [DIAG]        [VERT]  [VERT, DIAG]  [DIAG]        [VERT]   \n",
       "\n",
       "              7             8  \n",
       "0            []            []  \n",
       "1        [DIAG]        [DIAG]  \n",
       "2        [DIAG]        [DIAG]  \n",
       "3        [VERT]        [VERT]  \n",
       "4        [HORI]        [VERT]  \n",
       "5        [DIAG]  [HORI, DIAG]  \n",
       "6  [VERT, HORI]        [DIAG]  \n",
       "7        [HORI]        [HORI]  \n",
       "8        [DIAG]  [HORI, DIAG]  \n",
       "9  [VERT, DIAG]        [DIAG]  "
      ]
     },
     "metadata": {},
     "output_type": "display_data"
    }
   ],
   "source": [
    "# CIS 545 Test Case\n",
    "\n",
    "indelCost = 2\n",
    "D = determine_directions(seq1, seq2, indelCost)\n",
    "D_arr = directions_grid(D, seq1, seq2)\n",
    "display(D_arr)\n",
    "\n",
    "assert((D_arr[4] == [[], [], [], ['HORI', 'DIAG'], ['DIAG'], ['VERT'], ['VERT'], ['VERT'], ['DIAG'], ['VERT', 'DIAG']]).all())"
   ]
  },
  {
   "cell_type": "code",
   "execution_count": 21,
   "metadata": {
    "deletable": false,
    "editable": false,
    "nbgrader": {
     "checksum": "ed4d610592f5e2324a11f049b7031f53",
     "grade": false,
     "grade_id": "pad-5",
     "locked": true,
     "schema_version": 1,
     "solution": false
    }
   },
   "outputs": [
    {
     "name": "stdout",
     "output_type": "stream",
     "text": [
      "CIS 545 Test Case Padding\n"
     ]
    }
   ],
   "source": [
    "print('CIS 545 Test Case Padding')"
   ]
  },
  {
   "cell_type": "code",
   "execution_count": 22,
   "metadata": {
    "deletable": false,
    "editable": false,
    "nbgrader": {
     "checksum": "9714b2ff2f7b8db755b3668b12bbafb3",
     "grade": true,
     "grade_id": "test-detdirection-2",
     "locked": true,
     "points": 2,
     "schema_version": 1,
     "solution": false
    }
   },
   "outputs": [],
   "source": [
    "# CIS 545 Test Case\n"
   ]
  },
  {
   "cell_type": "code",
   "execution_count": 23,
   "metadata": {
    "deletable": false,
    "editable": false,
    "nbgrader": {
     "checksum": "cdbc989d0f4f1134195febc343e2c618",
     "grade": false,
     "grade_id": "pad-6",
     "locked": true,
     "schema_version": 1,
     "solution": false
    }
   },
   "outputs": [
    {
     "name": "stdout",
     "output_type": "stream",
     "text": [
      "CIS 545 Test Case Padding\n"
     ]
    }
   ],
   "source": [
    "print('CIS 545 Test Case Padding')"
   ]
  },
  {
   "cell_type": "markdown",
   "metadata": {
    "deletable": false,
    "editable": false,
    "nbgrader": {
     "checksum": "83fb9b63d7139dfbc0aeb82003617a7d",
     "grade": false,
     "grade_id": "step1-2-2",
     "locked": true,
     "schema_version": 1,
     "solution": false
    }
   },
   "source": [
    "### Step 1.2.2 Computing the Paths\n",
    "\n",
    "Define a function `build_paths(D, r, c, directions)` that returns a list of paths from $D(start\\_row\\_idx, start\\_col\\_idx)$ to that cell of $D(i, j)$ where $D(i, j) = 0$ is encountered for the first time. This list of paths should be returned as a list of lists of strings (i.e., where strings can take values as 'DIAG' or 'VERT' or 'HORI')."
   ]
  },
  {
   "cell_type": "raw",
   "metadata": {
    "deletable": false,
    "nbgrader": {
     "checksum": "ce07aafa604a8bcb357dd8ba0152e001",
     "grade": false,
     "grade_id": "build_paths",
     "locked": false,
     "schema_version": 1,
     "solution": true
    }
   },
   "source": [
    "# TODO: Write your build_paths(D, r, c, directions) function here.\n",
    "\n",
    "def build_paths(D, r, c, directions):  \n",
    "    front = [[r,c]]\n",
    "    directions = []\n",
    "    while True:\n",
    "        for i in front: #i是位置\n",
    "            wait=[]\n",
    "            for x in D[(i[0],i[1])][1]:\n",
    "                directions.append(x)            \n",
    "#             print(front)\n",
    "            if D[(i[0],i[1])][0] == 0:\n",
    "                return [directions]\n",
    "            for item in D[(i[0],i[1])][1]:\n",
    "                if item == 'VERT':\n",
    "                    wait.append([i[0]-1,i[1]])\n",
    "                if item == 'HORI':\n",
    "                    wait.append([i[0],i[1]-1])\n",
    "                if item == 'DIAG':\n",
    "                    wait.append([i[0]-1,i[1]-1])\n",
    "#             print(i)    \n",
    "#         print(directions,front,wait)\n",
    "        front = wait\n",
    "        "
   ]
  },
  {
   "cell_type": "code",
   "execution_count": 24,
   "metadata": {},
   "outputs": [],
   "source": [
    "def build_paths(D, r, c, directions):\n",
    "    directions_list=[[]]\n",
    "    next_list = [[r,c]]\n",
    "    result = []\n",
    "    while True:\n",
    "        if len(directions_list)!=0:\n",
    "            direction = directions_list.pop(0)\n",
    "            next_ = next_list.pop(0)\n",
    "#             print(next_,D[(next_[0],next_[1])][0])\n",
    "            if D[(next_[0],next_[1])][0]==0:\n",
    "                result.extend([direction])\n",
    "            else:\n",
    "#                 print(D[(next_[0],next_[1])][1])\n",
    "                for item in D[(next_[0],next_[1])][1]:\n",
    "#                     print(item)\n",
    "                    direction_new = direction.copy()\n",
    "                    direction_new.append(item)\n",
    "#                     print(item)\n",
    "                    if item == 'VERT':\n",
    "                        next_new = [next_[0]-1,next_[1]]\n",
    "                    if item == 'HORI':\n",
    "                        next_new = [next_[0],next_[1]-1]\n",
    "                    if item == 'DIAG':\n",
    "                        next_new = [next_[0]-1,next_[1]-1]\n",
    "#                     print(direction_new,next_new)\n",
    "                    directions_list.extend([direction_new]) \n",
    "                    next_list.extend([next_new])\n",
    "#                 print(directions_list,next_list)\n",
    "        else:\n",
    "#             print(result)\n",
    "            return result\n"
   ]
  },
  {
   "cell_type": "raw",
   "metadata": {},
   "source": [
    "if (D[(i-1,j)][0]-indelCost) == D[(i,j)][0]:\n",
    "                D[(i,j)][1].append('VERT')\n",
    "            if (D[(i,j-1)][0]-indelCost) == D[(i,j)][0]:\n",
    "                D[(i,j)][1].append('HORI')\n",
    "            if (D[(i-1,j-1)][0]+match_mismatch_cost(seq1[i-1],seq2[j-1])) == D[(i,j)][0]:\n",
    "                D[(i,j)][1].append('DIAG')"
   ]
  },
  {
   "cell_type": "raw",
   "metadata": {},
   "source": [
    "indelCost = 2\n",
    "D = determine_directions(seq1, seq2, indelCost)\n",
    "directions = build_paths(D, 6, 7, [])\n",
    "display(directions)"
   ]
  },
  {
   "cell_type": "code",
   "execution_count": 25,
   "metadata": {
    "deletable": false,
    "editable": false,
    "nbgrader": {
     "checksum": "85ffea61e60caea72d6b7f6daeb2e691",
     "grade": true,
     "grade_id": "test-build_paths-1",
     "locked": true,
     "points": 1,
     "schema_version": 1,
     "solution": false
    }
   },
   "outputs": [
    {
     "data": {
      "text/plain": [
       "[['DIAG', 'DIAG', 'VERT', 'DIAG', 'DIAG', 'DIAG']]"
      ]
     },
     "metadata": {},
     "output_type": "display_data"
    }
   ],
   "source": [
    "# CIS 545 Test Case\n",
    "\n",
    "indelCost = 2\n",
    "D = determine_directions(seq1, seq2, indelCost)\n",
    "directions = build_paths(D, start_row_idx, start_col_idx, [])\n",
    "\n",
    "display(directions)\n",
    "\n",
    "assert(directions[0] == ['DIAG', 'DIAG', 'VERT', 'DIAG', 'DIAG', 'DIAG'])"
   ]
  },
  {
   "cell_type": "code",
   "execution_count": 26,
   "metadata": {
    "deletable": false,
    "editable": false,
    "nbgrader": {
     "checksum": "c24c9a3bfebc519ad6b4165561e35164",
     "grade": false,
     "grade_id": "pad-7",
     "locked": true,
     "schema_version": 1,
     "solution": false
    }
   },
   "outputs": [
    {
     "name": "stdout",
     "output_type": "stream",
     "text": [
      "CIS 545 Test Case Padding\n"
     ]
    }
   ],
   "source": [
    "print('CIS 545 Test Case Padding')"
   ]
  },
  {
   "cell_type": "code",
   "execution_count": 27,
   "metadata": {
    "deletable": false,
    "editable": false,
    "nbgrader": {
     "checksum": "90b9e6c08c2b0684895068f4996bbd0a",
     "grade": true,
     "grade_id": "test-build_paths-2",
     "locked": true,
     "points": 4,
     "schema_version": 1,
     "solution": false
    }
   },
   "outputs": [],
   "source": [
    "# CIS 545 Test Case\n"
   ]
  },
  {
   "cell_type": "code",
   "execution_count": 28,
   "metadata": {
    "deletable": false,
    "editable": false,
    "nbgrader": {
     "checksum": "68760f6c2dcf973f71f1e951bd95c76f",
     "grade": false,
     "grade_id": "pad-8",
     "locked": true,
     "schema_version": 1,
     "solution": false
    }
   },
   "outputs": [
    {
     "name": "stdout",
     "output_type": "stream",
     "text": [
      "CIS 545 Test Case Padding\n"
     ]
    }
   ],
   "source": [
    "print('CIS 545 Test Case Padding')"
   ]
  },
  {
   "cell_type": "markdown",
   "metadata": {
    "deletable": false,
    "editable": false,
    "nbgrader": {
     "checksum": "77bdd2a834dccc81bdb6cfe55361e5d1",
     "grade": false,
     "grade_id": "note-step1-2-3",
     "locked": true,
     "schema_version": 1,
     "solution": false
    }
   },
   "source": [
    "### Step 1.2.3 Computing the Alignments\n",
    "\n",
    "Finally, now that we have the paths from start to finish, we can compute their corresponding alignments.\n",
    "\n",
    "Define a function `build_alignments(paths, seq1, seq2, r, c)` that returns the alignments specified by the directional arrows.\n",
    "\n",
    "`paths` is the output of the `build_paths` function, `r` refers to start\\_row\\_idx and `c` refers to start\\_col\\_idx.\n",
    "\n",
    "`build_alignments` should return a **list of two-element lists**, in which the first element of the **inner list** should refer to the alignment of `seq2`, and the second element should refer to the alignment of `seq1`. You should have as many alignment pairs as paths. Indicate a **gap** in the alignment with '-'.\n",
    "\n",
    "As you develop your code, you can refer to the “Trace Arrows back to origin” section of the [Wikipedia](https://en.wikipedia.org/wiki/Needleman%E2%80%93Wunsch_algorithm#Tracing_arrows_back_to_origin) article as your guide but remember that in Smith–Waterman algorithm, traceback procedure starts at the highest scoring matrix cell and proceeds until a cell with score zero is encountered, yielding the highest scoring local alignment."
   ]
  },
  {
   "cell_type": "code",
   "execution_count": 29,
   "metadata": {
    "deletable": false,
    "nbgrader": {
     "checksum": "6f11cc4b874d15a74e7ddb4319612ff4",
     "grade": false,
     "grade_id": "build_alignments",
     "locked": false,
     "schema_version": 1,
     "solution": true
    }
   },
   "outputs": [],
   "source": [
    "# TODO: Write your build_alignments(paths, seq1, seq2, r, c) function here.\n",
    "\n",
    "def build_alignments(paths, seq1, seq2, r, c):\n",
    "    result_seq1=[]\n",
    "    result_seq2=[]\n",
    "    for item in paths:\n",
    "        sub_seq1=[]\n",
    "        sub_seq2=[]\n",
    "        r_new=r\n",
    "        c_new=c\n",
    "#         print(item)\n",
    "        for i in item:\n",
    "            if i == 'DIAG':\n",
    "                sub_seq1.append(seq1[r_new-1])\n",
    "                sub_seq2.append(seq2[c_new-1])\n",
    "                r_new=r_new-1\n",
    "                c_new=c_new-1\n",
    "            if i == 'VERT':\n",
    "                sub_seq1.append(seq1[r_new-1])\n",
    "                sub_seq2.append('-')\n",
    "                r_new=r_new-1\n",
    "            if i == 'HORI':\n",
    "                sub_seq1.append('-')\n",
    "                sub_seq2.append(seq2[c_new-1])\n",
    "                c_new=c_new-1\n",
    "#             print(sub_seq1,sub_seq2)\n",
    "        sub_seq1.reverse()\n",
    "        sub_seq2.reverse()\n",
    "        result_seq1.extend([sub_seq1])\n",
    "        result_seq2.extend([sub_seq2])\n",
    "    return [result_seq2,result_seq1]\n",
    "            "
   ]
  },
  {
   "cell_type": "code",
   "execution_count": 30,
   "metadata": {
    "deletable": false,
    "editable": false,
    "nbgrader": {
     "checksum": "b9674bf3c9cc2e5fb33360f90ac003d1",
     "grade": true,
     "grade_id": "test-build_alignments-1",
     "locked": true,
     "points": 2,
     "schema_version": 1,
     "solution": false
    }
   },
   "outputs": [
    {
     "data": {
      "text/plain": [
       "[[['G', 'T', 'T', '-', 'A', 'C']], [['G', 'T', 'T', 'G', 'A', 'C']]]"
      ]
     },
     "metadata": {},
     "output_type": "display_data"
    }
   ],
   "source": [
    "# CIS 545 Test Case\n",
    "\n",
    "indelCost = 2\n",
    "D = determine_directions(seq1, seq2, indelCost)\n",
    "\n",
    "directions = build_paths(D, start_row_idx, start_col_idx, [])\n",
    "alignments = build_alignments(directions, seq1, seq2, start_row_idx, start_col_idx)\n",
    "display(alignments)\n",
    "\n",
    "assert(alignments[0][0] == ['G', 'T', 'T', '-', 'A', 'C'])"
   ]
  },
  {
   "cell_type": "code",
   "execution_count": 31,
   "metadata": {
    "deletable": false,
    "editable": false,
    "nbgrader": {
     "checksum": "8660c61ecc1e040ae594e5678001d444",
     "grade": false,
     "grade_id": "pad-9",
     "locked": true,
     "schema_version": 1,
     "solution": false
    }
   },
   "outputs": [
    {
     "name": "stdout",
     "output_type": "stream",
     "text": [
      "CIS 545 Test Case Padding\n"
     ]
    }
   ],
   "source": [
    "print('CIS 545 Test Case Padding')"
   ]
  },
  {
   "cell_type": "code",
   "execution_count": 32,
   "metadata": {
    "deletable": false,
    "editable": false,
    "nbgrader": {
     "checksum": "278762b9d58d3fbf1bac94b0b29e4dd1",
     "grade": true,
     "grade_id": "test-build_alignments-2",
     "locked": true,
     "points": 4,
     "schema_version": 1,
     "solution": false
    }
   },
   "outputs": [],
   "source": [
    "# CIS 545 Test Case\n"
   ]
  },
  {
   "cell_type": "code",
   "execution_count": 33,
   "metadata": {
    "deletable": false,
    "editable": false,
    "nbgrader": {
     "checksum": "de1ab0ec1741c7909baba5878b20779b",
     "grade": false,
     "grade_id": "pad-10",
     "locked": true,
     "schema_version": 1,
     "solution": false
    }
   },
   "outputs": [
    {
     "name": "stdout",
     "output_type": "stream",
     "text": [
      "CIS 545 Test Case Padding\n"
     ]
    }
   ],
   "source": [
    "print('CIS 545 Test Case Padding')"
   ]
  },
  {
   "cell_type": "markdown",
   "metadata": {
    "deletable": false,
    "editable": false,
    "nbgrader": {
     "checksum": "c53d468cc9bcbca3dcd989cb13ec25d4",
     "grade": false,
     "grade_id": "grading",
     "locked": true,
     "schema_version": 1,
     "solution": false
    }
   },
   "source": [
    "### Grading Supplement\n",
    "\n",
    "Before submitting, please make sure that the entire notebook runs successfully from top to bottom passing each given test cell, else the notebook may fail in autograding. We shall run your entire notebook and then inject the test cases after every section. Do ensure that you use the same function and variable names as mentioned in the question."
   ]
  },
  {
   "cell_type": "code",
   "execution_count": null,
   "metadata": {},
   "outputs": [],
   "source": []
  }
 ],
 "metadata": {
  "kernelspec": {
   "display_name": "Python 3",
   "language": "python",
   "name": "python3"
  },
  "language_info": {
   "codemirror_mode": {
    "name": "ipython",
    "version": 3
   },
   "file_extension": ".py",
   "mimetype": "text/x-python",
   "name": "python",
   "nbconvert_exporter": "python",
   "pygments_lexer": "ipython3",
   "version": "3.6.7"
  }
 },
 "nbformat": 4,
 "nbformat_minor": 2
}
